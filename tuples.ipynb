{
 "cells": [
  {
   "cell_type": "code",
   "execution_count": 1,
   "id": "1a915c0e-3690-4534-b98b-b4ed078588b6",
   "metadata": {},
   "outputs": [
    {
     "name": "stdout",
     "output_type": "stream",
     "text": [
      "()\n",
      "<class 'tuple'>\n"
     ]
    }
   ],
   "source": [
    "t = ()\n",
    "print(t)\n",
    "print(type(t))\n"
   ]
  },
  {
   "cell_type": "code",
   "execution_count": 2,
   "id": "6c5d442d-9475-4839-9d15-b0dea9f29549",
   "metadata": {},
   "outputs": [
    {
     "name": "stdout",
     "output_type": "stream",
     "text": [
      "45\n",
      "<class 'int'>\n"
     ]
    }
   ],
   "source": [
    "t = (45)\n",
    "print(t)\n",
    "print(type(t))"
   ]
  },
  {
   "cell_type": "code",
   "execution_count": 3,
   "id": "954f1d44-fb3b-40e2-add8-bde47b20c359",
   "metadata": {},
   "outputs": [
    {
     "name": "stdout",
     "output_type": "stream",
     "text": [
      "(18,)\n",
      "<class 'tuple'>\n"
     ]
    }
   ],
   "source": [
    "t = (18,)\n",
    "print(t)\n",
    "print(type(t))"
   ]
  },
  {
   "cell_type": "markdown",
   "id": "b032a3ce-866b-44a2-b4c1-391d9686b06c",
   "metadata": {},
   "source": [
    "### type casting"
   ]
  },
  {
   "cell_type": "code",
   "execution_count": 5,
   "id": "6859e365-f689-44df-a64d-e6f745431732",
   "metadata": {},
   "outputs": [
    {
     "name": "stdout",
     "output_type": "stream",
     "text": [
      "[18, 85, 56]\n",
      "(18, 85, 56)\n"
     ]
    }
   ],
   "source": [
    "t = [18, 85, 56]\n",
    "print(t)\n",
    "l = tuple(t)\n",
    "print(l)"
   ]
  },
  {
   "cell_type": "code",
   "execution_count": 6,
   "id": "3dcef61f-a017-41af-a0ac-8d08544a7469",
   "metadata": {},
   "outputs": [
    {
     "name": "stdout",
     "output_type": "stream",
     "text": [
      "(10, 12, 14, 16, 18)\n"
     ]
    }
   ],
   "source": [
    "t = tuple(range(10, 20, 2))\n",
    "print(t)"
   ]
  },
  {
   "cell_type": "markdown",
   "id": "57d4e3ab-242c-4490-b3e6-8be8dfefeaf3",
   "metadata": {},
   "source": [
    "### Concatenation of tuples"
   ]
  },
  {
   "cell_type": "code",
   "execution_count": 7,
   "id": "3be6d50d-0dec-47eb-baac-c3569b585cad",
   "metadata": {},
   "outputs": [
    {
     "name": "stdout",
     "output_type": "stream",
     "text": [
      "(10, 20, 50, 66, 5, 30, 70, 45)\n"
     ]
    }
   ],
   "source": [
    "t1 = (10, 20, 50, 66)\n",
    "t2 = (5, 30, 70, 45)\n",
    "print(t1+t2)"
   ]
  },
  {
   "cell_type": "code",
   "execution_count": 15,
   "id": "1f21b48f-db1e-4dad-8c64-5d56a7dbb167",
   "metadata": {},
   "outputs": [
    {
     "name": "stdout",
     "output_type": "stream",
     "text": [
      "[5, 10, 20, 30, 45, 50, 66, 70]\n",
      "5\n",
      "70\n",
      "1\n",
      "0\n"
     ]
    }
   ],
   "source": [
    "t = (10, 20, 50, 66, 5, 30, 70, 45)\n",
    "t1 = sorted(t)\n",
    "print(t1)\n",
    "print(min(t))\n",
    "print(max(t))\n",
    "print(t.count(10))\n",
    "print(t.index(10))"
   ]
  },
  {
   "cell_type": "code",
   "execution_count": 13,
   "id": "05bb002a-6b3f-4e46-a151-48f22890143b",
   "metadata": {},
   "outputs": [
    {
     "name": "stdout",
     "output_type": "stream",
     "text": [
      "(10, 20, 50, 66, 10, 20, 50, 66, 10, 20, 50, 66)\n"
     ]
    }
   ],
   "source": [
    "t = (10, 20, 50, 66)\n",
    "t2 = t*3\n",
    "print(t2)"
   ]
  },
  {
   "cell_type": "code",
   "execution_count": null,
   "id": "3718a59b-3d36-4912-812e-40da33cb9310",
   "metadata": {},
   "outputs": [],
   "source": []
  }
 ],
 "metadata": {
  "kernelspec": {
   "display_name": "Python 3 (ipykernel)",
   "language": "python",
   "name": "python3"
  },
  "language_info": {
   "codemirror_mode": {
    "name": "ipython",
    "version": 3
   },
   "file_extension": ".py",
   "mimetype": "text/x-python",
   "name": "python",
   "nbconvert_exporter": "python",
   "pygments_lexer": "ipython3",
   "version": "3.9.2"
  }
 },
 "nbformat": 4,
 "nbformat_minor": 5
}
