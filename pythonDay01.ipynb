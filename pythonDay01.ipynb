{
 "cells": [
  {
   "cell_type": "code",
   "execution_count": 3,
   "id": "ed292580-c154-4b1a-b973-e7c9ca73b57c",
   "metadata": {},
   "outputs": [
    {
     "name": "stdout",
     "output_type": "stream",
     "text": [
      "Hello siraj\n"
     ]
    }
   ],
   "source": [
    "print(\"Hello siraj\")"
   ]
  },
  {
   "cell_type": "markdown",
   "id": "03f9939d-5c1a-4d5b-b4a3-32300d6ef78c",
   "metadata": {},
   "source": [
    "import keyword\n",
    "a = len(keyword.kwlist)\n",
    "print(keyword.kwlist)\n",
    "print(a)"
   ]
  },
  {
   "cell_type": "code",
   "execution_count": 9,
   "id": "2a22cd10-109a-41b6-af6e-1a205be7bafc",
   "metadata": {},
   "outputs": [
    {
     "name": "stdout",
     "output_type": "stream",
     "text": [
      "18\n",
      "<class 'int'>\n"
     ]
    }
   ],
   "source": [
    "A = 18\n",
    "print(A)\n",
    "print(type(A))"
   ]
  },
  {
   "cell_type": "code",
   "execution_count": 7,
   "id": "df58feb4-52c9-46c3-aef9-639c73470d79",
   "metadata": {},
   "outputs": [
    {
     "name": "stdout",
     "output_type": "stream",
     "text": [
      "RCB\n",
      "<class 'str'>\n"
     ]
    }
   ],
   "source": [
    "A = \"RCB\"\n",
    "print(A)\n",
    "print(type(A))"
   ]
  },
  {
   "cell_type": "code",
   "execution_count": 8,
   "id": "c71651e4-bd82-4774-a909-7ec29203b855",
   "metadata": {},
   "outputs": [
    {
     "name": "stdout",
     "output_type": "stream",
     "text": [
      "18.05\n",
      "<class 'float'>\n"
     ]
    }
   ],
   "source": [
    "A = 18.05\n",
    "print(A)\n",
    "print(type(A))"
   ]
  },
  {
   "cell_type": "code",
   "execution_count": 11,
   "id": "aa9207ea-cde8-4b09-98b2-c61fc8b3adf8",
   "metadata": {},
   "outputs": [
    {
     "name": "stdin",
     "output_type": "stream",
     "text": [
      "Enter your name: Gaurav\n"
     ]
    },
    {
     "name": "stdout",
     "output_type": "stream",
     "text": [
      "Gaurav\n",
      "<class 'str'>\n"
     ]
    }
   ],
   "source": [
    "A = input(\"Enter your name:\")\n",
    "print(A)\n",
    "print(type(A))"
   ]
  },
  {
   "cell_type": "code",
   "execution_count": 13,
   "id": "3e854777-16a7-4287-ae10-69ecb3b76b8b",
   "metadata": {},
   "outputs": [
    {
     "name": "stdin",
     "output_type": "stream",
     "text": [
      "Enter your age: 25\n"
     ]
    },
    {
     "name": "stdout",
     "output_type": "stream",
     "text": [
      "25\n",
      "<class 'int'>\n"
     ]
    }
   ],
   "source": [
    "A = int(input(\"Enter your age:\"))\n",
    "print(A)\n",
    "print(type(A))"
   ]
  },
  {
   "cell_type": "code",
   "execution_count": 14,
   "id": "2d1dc704-5ace-4254-bec3-22742a59f5c2",
   "metadata": {},
   "outputs": [
    {
     "name": "stdin",
     "output_type": "stream",
     "text": [
      "Enter your num1: 23\n",
      "Enter your num2: 76\n"
     ]
    },
    {
     "name": "stdout",
     "output_type": "stream",
     "text": [
      "99\n"
     ]
    }
   ],
   "source": [
    "A = int(input(\"Enter your num1:\"))\n",
    "B = int(input(\"Enter your num2:\"))\n",
    "print(A+B)\n"
   ]
  },
  {
   "cell_type": "code",
   "execution_count": 15,
   "id": "c3bd8756-35e1-47f1-a9a8-3c35d9db0430",
   "metadata": {},
   "outputs": [
    {
     "name": "stdin",
     "output_type": "stream",
     "text": [
      "Enter your num1: 12\n",
      "Enter your num2: 2\n"
     ]
    },
    {
     "name": "stdout",
     "output_type": "stream",
     "text": [
      "10\n"
     ]
    }
   ],
   "source": [
    "A = int(input(\"Enter your num1:\"))\n",
    "B = int(input(\"Enter your num2:\"))\n",
    "print(A-B)"
   ]
  },
  {
   "cell_type": "code",
   "execution_count": 16,
   "id": "08624129-ec81-47e9-a70b-d0a6ec733e91",
   "metadata": {},
   "outputs": [
    {
     "name": "stdin",
     "output_type": "stream",
     "text": [
      "Enter your num1: 12\n",
      "Enter your num2: 2\n"
     ]
    },
    {
     "name": "stdout",
     "output_type": "stream",
     "text": [
      "24\n"
     ]
    }
   ],
   "source": [
    "A = int(input(\"Enter your num1:\"))\n",
    "B = int(input(\"Enter your num2:\"))\n",
    "print(A*B)"
   ]
  },
  {
   "cell_type": "code",
   "execution_count": 18,
   "id": "0fc1f026-edf4-4d9c-a23c-ac5da743226f",
   "metadata": {},
   "outputs": [
    {
     "name": "stdin",
     "output_type": "stream",
     "text": [
      "Enter your num1: 12\n",
      "Enter your num2: 2\n"
     ]
    },
    {
     "name": "stdout",
     "output_type": "stream",
     "text": [
      "6\n"
     ]
    }
   ],
   "source": [
    "A = int(input(\"Enter your num1:\"))\n",
    "B = int(input(\"Enter your num2:\"))\n",
    "print(int(A/B))"
   ]
  },
  {
   "cell_type": "code",
   "execution_count": null,
   "id": "178215e6-48af-4852-9dee-dc9586ad6337",
   "metadata": {},
   "outputs": [],
   "source": []
  }
 ],
 "metadata": {
  "kernelspec": {
   "display_name": "Python 3 (ipykernel)",
   "language": "python",
   "name": "python3"
  },
  "language_info": {
   "codemirror_mode": {
    "name": "ipython",
    "version": 3
   },
   "file_extension": ".py",
   "mimetype": "text/x-python",
   "name": "python",
   "nbconvert_exporter": "python",
   "pygments_lexer": "ipython3",
   "version": "3.9.2"
  }
 },
 "nbformat": 4,
 "nbformat_minor": 5
}
