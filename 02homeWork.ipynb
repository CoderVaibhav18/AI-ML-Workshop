{
 "cells": [
  {
   "cell_type": "markdown",
   "id": "6ec97af9-f5d2-463a-b01e-9ee487085dc7",
   "metadata": {},
   "source": [
    "#### 1. wap to display gm followed by the name entered by user."
   ]
  },
  {
   "cell_type": "code",
   "execution_count": 1,
   "id": "6afb65e0-479f-4ef6-b021-63b3316e07cc",
   "metadata": {},
   "outputs": [
    {
     "name": "stdin",
     "output_type": "stream",
     "text": [
      "Enter your name: Vaibhav\n"
     ]
    },
    {
     "name": "stdout",
     "output_type": "stream",
     "text": [
      "Good Morning! Vaibhav\n"
     ]
    }
   ],
   "source": [
    "name = input(\"Enter your name:\")\n",
    "print(f\"Good Morning! {name}\")"
   ]
  },
  {
   "cell_type": "markdown",
   "id": "fa79c398-2101-4851-9f00-d41c70324d99",
   "metadata": {},
   "source": [
    "#### 2. Wap to find 2 to the power using python print in float\n"
   ]
  },
  {
   "cell_type": "code",
   "execution_count": 3,
   "id": "4220d421-79d0-4033-9aa5-64db0b846a67",
   "metadata": {},
   "outputs": [
    {
     "name": "stdin",
     "output_type": "stream",
     "text": [
      "Enter number: 2\n"
     ]
    },
    {
     "name": "stdout",
     "output_type": "stream",
     "text": [
      "4.0\n"
     ]
    }
   ],
   "source": [
    "n = int(input(\"Enter number:\"))\n",
    "result = 2 ** n\n",
    "print(float(result))"
   ]
  },
  {
   "cell_type": "markdown",
   "id": "7aa5967e-6d78-4325-a8c2-fa27aa30f8f1",
   "metadata": {},
   "source": [
    "#### 3. Wap to find square root of 49 using python.\n"
   ]
  },
  {
   "cell_type": "code",
   "execution_count": 6,
   "id": "ffab07aa-d484-4d99-b9a8-01f0133c587b",
   "metadata": {},
   "outputs": [
    {
     "name": "stdout",
     "output_type": "stream",
     "text": [
      "7.0\n"
     ]
    }
   ],
   "source": [
    "import math\n",
    "sqrt = math.sqrt(49)\n",
    "print(sqrt)"
   ]
  },
  {
   "cell_type": "markdown",
   "id": "688263b4-2355-438d-a058-c3aed0c96ed0",
   "metadata": {},
   "source": [
    "#### 4. Use replacement operator in python\n"
   ]
  },
  {
   "cell_type": "code",
   "execution_count": 7,
   "id": "2b11bd42-636c-458f-babe-ac8319326f76",
   "metadata": {},
   "outputs": [
    {
     "name": "stdout",
     "output_type": "stream",
     "text": [
      "I love to code in Python\n"
     ]
    }
   ],
   "source": [
    "text = \"I love to code in Java\"\n",
    "updateText = text.replace(\"Java\", \"Python\")\n",
    "print(updateText)"
   ]
  },
  {
   "cell_type": "markdown",
   "id": "e86f7051-5575-4902-b865-20adcfb28b08",
   "metadata": {},
   "source": [
    "#### 5. Use eval function"
   ]
  },
  {
   "cell_type": "code",
   "execution_count": 31,
   "id": "e41530fb-0f78-4f26-a348-e9260501adab",
   "metadata": {},
   "outputs": [
    {
     "name": "stdin",
     "output_type": "stream",
     "text": [
      "Enter a mathematical:   5 * 5 * (10+10)\n"
     ]
    },
    {
     "name": "stdout",
     "output_type": "stream",
     "text": [
      "500\n"
     ]
    }
   ],
   "source": [
    "expression = input(\"Enter a mathematical: \")\n",
    "result = eval(expression)\n",
    "print(result)"
   ]
  },
  {
   "cell_type": "markdown",
   "id": "3e98be75-6b0b-4065-8c98-d0fa85b22f0a",
   "metadata": {},
   "source": [
    "#### 6. use equality operator\n"
   ]
  },
  {
   "cell_type": "code",
   "execution_count": 14,
   "id": "104d4874-0def-4817-af76-5f436ec5756b",
   "metadata": {},
   "outputs": [
    {
     "name": "stdin",
     "output_type": "stream",
     "text": [
      "Enter your age: 19\n"
     ]
    },
    {
     "name": "stdout",
     "output_type": "stream",
     "text": [
      "Your can vote\n"
     ]
    }
   ],
   "source": [
    "age = int(input(\"Enter your age:\"))\n",
    "if age == 18 or age > 18:\n",
    "    print(\"Your can vote\")\n",
    "else:\n",
    "    print(\"You cannot vote\")"
   ]
  },
  {
   "cell_type": "markdown",
   "id": "8c2a6e52-ed14-47e3-bca7-b664391ac556",
   "metadata": {},
   "source": [
    "#### 7. Wap to sum a list with 4 numbers"
   ]
  },
  {
   "cell_type": "code",
   "execution_count": 26,
   "id": "b1b9ac88-e6d3-4f4b-a6a8-8234b28c7259",
   "metadata": {},
   "outputs": [
    {
     "name": "stdout",
     "output_type": "stream",
     "text": [
      "Sum is 124\n"
     ]
    }
   ],
   "source": [
    "list = [45, 25, 36, 18]\n",
    "sum = 0\n",
    "for i in range(0, len(list)):\n",
    "    sum += list[i]\n",
    "print(\"Sum is\", sum)"
   ]
  },
  {
   "cell_type": "markdown",
   "id": "2f0366cd-f744-45bc-b2ee-572ccd3a1c6f",
   "metadata": {},
   "source": [
    "#### 8. Wap to shows to stores 5 fruits in lists enter by user.\n"
   ]
  },
  {
   "cell_type": "code",
   "execution_count": 25,
   "id": "02a091fb-5302-4ced-90d7-0b4b5d25ac79",
   "metadata": {},
   "outputs": [
    {
     "name": "stdin",
     "output_type": "stream",
     "text": [
      "Enter fruit1 name: banana\n",
      "Enter fruit2 name: mango\n",
      "Enter fruit3 name: chiku\n",
      "Enter fruit4 name: org\n"
     ]
    },
    {
     "name": "stdout",
     "output_type": "stream",
     "text": [
      "['banana', 'mango', 'chiku', 'org']\n"
     ]
    }
   ],
   "source": [
    "fruits = [] \n",
    "for i in range(0, 4):\n",
    "    fruitsName = input(f\"Enter fruit{i+1} name:\")\n",
    "    fruits.append(fruitsName)\n",
    "print(fruits)"
   ]
  },
  {
   "cell_type": "markdown",
   "id": "f2b5f7d7-8a5f-4ca0-8584-c3aea5c74400",
   "metadata": {},
   "source": [
    "#### 9. Wap to accept marks of 3 students and distinguish in sorted manner."
   ]
  },
  {
   "cell_type": "code",
   "execution_count": 30,
   "id": "208d3d93-8284-4b25-9739-c96157e39399",
   "metadata": {},
   "outputs": [
    {
     "name": "stdin",
     "output_type": "stream",
     "text": [
      "Enter student1 marks: 45\n",
      "Enter student2 marks: 12\n",
      "Enter student3 marks: 13\n"
     ]
    },
    {
     "name": "stdout",
     "output_type": "stream",
     "text": [
      "[12, 13, 45]\n"
     ]
    }
   ],
   "source": [
    "marks = [] \n",
    "for i in range(0, 3):\n",
    "    studentMarks = int(input(f\"Enter student{i+1} marks:\"))\n",
    "    marks.append(studentMarks)\n",
    "marks.sort()\n",
    "print(marks)"
   ]
  },
  {
   "cell_type": "markdown",
   "id": "b6867f84-2828-4137-8dfd-c33f8c379554",
   "metadata": {},
   "source": [
    "## if else questions"
   ]
  },
  {
   "cell_type": "markdown",
   "id": "bc5b18b5-12e5-47a4-a0d8-f094cac7f8d2",
   "metadata": {},
   "source": [
    "#### 1. Wap to check weather the number is divisible by 7 or not."
   ]
  },
  {
   "cell_type": "code",
   "execution_count": 3,
   "id": "4171f281-0448-4c1f-aa45-76e723fcf1d7",
   "metadata": {},
   "outputs": [
    {
     "name": "stdin",
     "output_type": "stream",
     "text": [
      "Enter any number 15\n"
     ]
    },
    {
     "name": "stdout",
     "output_type": "stream",
     "text": [
      "15 is not divisible by 7\n"
     ]
    }
   ],
   "source": [
    "n = int(input(\"Enter any number\"))\n",
    "if n % 7 == 0:\n",
    "    print(f\"{n} is divisible by 7\")\n",
    "else:\n",
    "    print(f\"{n} is not divisible by 7\")"
   ]
  },
  {
   "cell_type": "markdown",
   "id": "9dc70b70-88cd-42e1-a9f5-20ab5eb3b2d2",
   "metadata": {},
   "source": [
    "#### 2. Wap to check whether the number is +ve or -ve."
   ]
  },
  {
   "cell_type": "code",
   "execution_count": 7,
   "id": "58e0c959-72b9-46cc-87c0-0e971d015066",
   "metadata": {},
   "outputs": [
    {
     "name": "stdin",
     "output_type": "stream",
     "text": [
      "Enter any number 0\n"
     ]
    },
    {
     "name": "stdout",
     "output_type": "stream",
     "text": [
      "0 is is neither a positive nor a negative number\n"
     ]
    }
   ],
   "source": [
    "n = int(input(\"Enter any number\"))\n",
    "\n",
    "if n > 0:\n",
    "    print(f\"{n} is positive number\")\n",
    "elif n == 0:\n",
    "    print(f\"{n} is neither a positive nor a negative number\")\n",
    "else:\n",
    "    print(f\"{n} is negative number\")"
   ]
  },
  {
   "cell_type": "markdown",
   "id": "fe6705d0-01c4-4749-83f7-9eacd457516d",
   "metadata": {},
   "source": [
    "#### 3. Wap to check whether the number is even or add."
   ]
  },
  {
   "cell_type": "code",
   "execution_count": 10,
   "id": "b29d2335-2fcf-47c2-9d97-b15d9bc73d26",
   "metadata": {},
   "outputs": [
    {
     "name": "stdin",
     "output_type": "stream",
     "text": [
      "Enter any number 88\n"
     ]
    },
    {
     "name": "stdout",
     "output_type": "stream",
     "text": [
      "88 is even number\n"
     ]
    }
   ],
   "source": [
    "n = int(input(\"Enter any number\"))\n",
    "if n % 2 == 0:\n",
    "    print(f\"{n} is even number\")\n",
    "else:\n",
    "    print(f\"{n} is odd number\")"
   ]
  },
  {
   "cell_type": "markdown",
   "id": "4f5c1df7-4228-4617-a6d5-19b2d7023894",
   "metadata": {},
   "source": [
    "#### 4. Wap to check whether the year is leap year or not."
   ]
  },
  {
   "cell_type": "code",
   "execution_count": 13,
   "id": "509a1556-27ad-4608-ae83-a08bf791f064",
   "metadata": {},
   "outputs": [
    {
     "name": "stdin",
     "output_type": "stream",
     "text": [
      "Enter any year 2004\n"
     ]
    },
    {
     "name": "stdout",
     "output_type": "stream",
     "text": [
      "2004 is leap year\n"
     ]
    }
   ],
   "source": [
    "year = int(input(\"Enter any year\"))\n",
    "if (year % 4 == 0 and year % 100 != 0) or (year % 400 == 0):\n",
    "    print(f\"{year} is leap year\")\n",
    "else:\n",
    "    print(f\"{year} is not leap year\")"
   ]
  },
  {
   "cell_type": "markdown",
   "id": "ba3cae8a-428f-4b69-86fd-c1a0497404f4",
   "metadata": {},
   "source": [
    "#### 5. Wap to check whether the person is senior citizen or not."
   ]
  },
  {
   "cell_type": "code",
   "execution_count": 15,
   "id": "dec366df-534d-4ec0-8277-d3545ba23e09",
   "metadata": {},
   "outputs": [
    {
     "name": "stdin",
     "output_type": "stream",
     "text": [
      "Enter your person age: 65\n"
     ]
    },
    {
     "name": "stdout",
     "output_type": "stream",
     "text": [
      "The person is senior citizen\n"
     ]
    }
   ],
   "source": [
    "personAge = int(input(\"Enter your person age:\"))\n",
    "\n",
    "if personAge >= 60:\n",
    "    print(\"The person is senior citizen\")\n",
    "else:\n",
    "    print(\"The person is not senior citizen\")"
   ]
  },
  {
   "cell_type": "markdown",
   "id": "e2c5c5c9-e165-4b79-a38b-ffde80aa8073",
   "metadata": {},
   "source": [
    "#### 6. Wap to display the youngest person among 4 persons age entered by the user."
   ]
  },
  {
   "cell_type": "code",
   "execution_count": 25,
   "id": "18d6b161-843b-4e89-98e9-fca7c776fbbd",
   "metadata": {},
   "outputs": [
    {
     "name": "stdin",
     "output_type": "stream",
     "text": [
      "Enter your 1st person age: 96 \n",
      "Enter your 2nd person age: 85\n",
      "Enter your 3rd person age: 74\n",
      "Enter your 4th person age: 856\n"
     ]
    },
    {
     "name": "stdout",
     "output_type": "stream",
     "text": [
      "Youngest person age is 856\n"
     ]
    }
   ],
   "source": [
    "personAge01 = int(input(\"Enter your 1st person age:\"))\n",
    "personAge02 = int(input(\"Enter your 2nd person age:\"))\n",
    "personAge03 = int(input(\"Enter your 3rd person age:\"))\n",
    "personAge04 = int(input(\"Enter your 4th person age:\"))\n",
    "\n",
    "youngestPerson = personAge01\n",
    "\n",
    "if personAge02 > youngestPerson:\n",
    "    youngestPerson = personAge02\n",
    "elif personAge03 > youngestPerson:\n",
    "    youngestPerson = personAge03\n",
    "elif personAge04 > youngestPerson:\n",
    "    youngestPerson = personAge04\n",
    "    \n",
    "print(f\"Youngest person age is {youngestPerson}\")"
   ]
  },
  {
   "cell_type": "markdown",
   "id": "e531f7ed-f0d0-4be9-8322-68d05b4ecd62",
   "metadata": {},
   "source": [
    "#### 7. Wap to check the number is prime or not.\n"
   ]
  },
  {
   "cell_type": "code",
   "execution_count": 54,
   "id": "19f5426f-4e4b-4303-948a-c92982ab4790",
   "metadata": {},
   "outputs": [
    {
     "name": "stdin",
     "output_type": "stream",
     "text": [
      "Enter any number 5\n"
     ]
    },
    {
     "name": "stdout",
     "output_type": "stream",
     "text": [
      "5 is prime number\n"
     ]
    }
   ],
   "source": [
    "n = int(input(\"Enter any number\"))\n",
    "isPrime = True\n",
    "\n",
    "for i in range(2, n):\n",
    "    if n % i == 0:\n",
    "        isPrime = False\n",
    "        break\n",
    "        \n",
    "if isPrime == True:\n",
    "    print(f\"{n} is prime number\")\n",
    "else:\n",
    "    print(f\"{n} is not prime number\")"
   ]
  },
  {
   "cell_type": "markdown",
   "id": "080af988-ee10-469a-9f57-d97322939de5",
   "metadata": {},
   "source": [
    "#### 8. Wap to check the character are vowel or not. (both uppercase 'A' or lowercase 'a')"
   ]
  },
  {
   "cell_type": "code",
   "execution_count": 43,
   "id": "5e831171-3e9b-4735-aafe-c02e592e8efb",
   "metadata": {},
   "outputs": [
    {
     "name": "stdin",
     "output_type": "stream",
     "text": [
      "Enter any character: s\n"
     ]
    },
    {
     "name": "stdout",
     "output_type": "stream",
     "text": [
      "Charater s is not vowel\n"
     ]
    }
   ],
   "source": [
    "char = input(\"Enter any character:\")\n",
    "if (char == 'a' or char == 'A') or (char == 'e' or char == 'E') or (char == 'o' or char == 'O') or (char == 'i' or char == 'I') or (char == 'u' or char == 'U'):\n",
    "    print(f\"Charater {char} is vowel\")\n",
    "else:\n",
    "    print(f\"Charater {char} is not vowel\")"
   ]
  },
  {
   "cell_type": "code",
   "execution_count": null,
   "id": "e5b73b76-b98f-4e4f-830f-b31dfa97a756",
   "metadata": {},
   "outputs": [],
   "source": []
  }
 ],
 "metadata": {
  "kernelspec": {
   "display_name": "Python 3 (ipykernel)",
   "language": "python",
   "name": "python3"
  },
  "language_info": {
   "codemirror_mode": {
    "name": "ipython",
    "version": 3
   },
   "file_extension": ".py",
   "mimetype": "text/x-python",
   "name": "python",
   "nbconvert_exporter": "python",
   "pygments_lexer": "ipython3",
   "version": "3.9.2"
  }
 },
 "nbformat": 4,
 "nbformat_minor": 5
}
