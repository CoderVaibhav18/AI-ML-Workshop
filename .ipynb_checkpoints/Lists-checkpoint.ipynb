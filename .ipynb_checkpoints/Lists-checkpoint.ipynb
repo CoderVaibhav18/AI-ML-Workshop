{
 "cells": [
  {
   "cell_type": "code",
   "execution_count": 1,
   "id": "211b8fea-c3a8-46be-aa06-a770fe3f58df",
   "metadata": {},
   "outputs": [
    {
     "name": "stdout",
     "output_type": "stream",
     "text": [
      "[20, 10, 30]\n",
      "<class 'list'>\n"
     ]
    }
   ],
   "source": [
    "l = [20, 10, 30]\n",
    "print(l)\n",
    "print(type(l))"
   ]
  },
  {
   "cell_type": "code",
   "execution_count": 3,
   "id": "dc390d8e-33a5-44f0-9423-95562fbe2a4f",
   "metadata": {},
   "outputs": [
    {
     "name": "stdout",
     "output_type": "stream",
     "text": [
      "Vaibhav\n",
      "<class 'list'>\n"
     ]
    }
   ],
   "source": [
    "l = [\"Vaibhav\", 20, 10, 30]\n",
    "print(l)\n",
    "print(type(l))"
   ]
  },
  {
   "cell_type": "code",
   "execution_count": 5,
   "id": "62c795bc-1bac-4710-88b6-c245365498f2",
   "metadata": {},
   "outputs": [
    {
     "name": "stdout",
     "output_type": "stream",
     "text": [
      "Vaibhav\n",
      "['Vaibhav', 'Sathe', 10, 30]\n"
     ]
    }
   ],
   "source": [
    "l = [\"Vaibhav\", 20, 10, 30]\n",
    "print(l[0])\n",
    "l[1] = \"Sathe\"\n",
    "print(l)"
   ]
  },
  {
   "cell_type": "code",
   "execution_count": 7,
   "id": "3f74feba-a268-4d0e-87cf-b48a05c04092",
   "metadata": {},
   "outputs": [
    {
     "name": "stdout",
     "output_type": "stream",
     "text": [
      "['Vaibhav', 20, 10, 30, True]\n",
      "18\n"
     ]
    }
   ],
   "source": [
    "l = [\"Vaibhav\", 20, 10, 30, True, None, \"18\"]\n",
    "print(l[0:5])\n",
    "print(l[-1])"
   ]
  },
  {
   "cell_type": "code",
   "execution_count": 20,
   "id": "6e0a3978-2326-4e76-a768-533a6bc8293e",
   "metadata": {},
   "outputs": [
    {
     "name": "stdout",
     "output_type": "stream",
     "text": [
      "[10, 20, 52, 63, 63, 52, 8, 96, 22, 222, 32, 25, 82, 12, 255]\n",
      "[8, 10, 12, 20, 22, 25, 32, 52, 52, 63, 63, 82, 96, 222, 255]\n",
      "[255, 222, 96, 82, 63, 63, 52, 52, 32, 25, 22, 20, 12, 10, 8]\n",
      "[255, 222, 96, 82, 63, 63, 52, 52, 32, 25, 22, 20, 12, 10, 8, 9]\n",
      "[255, 222, 96, 82, 63, 63, 52, 52, 32, 25, 22, 20, 12, 10, 8, 9, 18]\n",
      "[188, 255, 222, 96, 82, 63, 63, 52, 52, 32, 25, 22, 20, 12, 10, 8, 9, 18]\n",
      "[255, 222, 96, 82, 63, 63, 52, 52, 32, 25, 22, 20, 12, 10, 8, 9, 18]\n",
      "[222, 96, 82, 63, 63, 52, 52, 32, 25, 22, 20, 12, 10, 8, 9, 18]\n",
      "[]\n"
     ]
    }
   ],
   "source": [
    "l = [10, 20, 52, 63, 63, 52, 8, 96, 22, 222, 32, 25, 82, 12, 255]\n",
    "print(l)\n",
    "l.sort()\n",
    "print(l)\n",
    "l.reverse()\n",
    "print(l)\n",
    "l.append(9)\n",
    "print(l)\n",
    "l.append(18)\n",
    "print(l)\n",
    "l.insert(0, 188)\n",
    "print(l)\n",
    "l.pop(0)\n",
    "print(l)\n",
    "l.remove(255)\n",
    "print(l)\n",
    "l.clear()\n",
    "print(l)"
   ]
  },
  {
   "cell_type": "code",
   "execution_count": 22,
   "id": "462651c1-ed87-4d36-a7d5-7def3bd4f085",
   "metadata": {},
   "outputs": [
    {
     "name": "stdout",
     "output_type": "stream",
     "text": [
      "['apple', 'mango', 'banana', 'orange']\n",
      "['apple', 'mango', 'banana', 'orange']\n"
     ]
    }
   ],
   "source": [
    "a = [\"apple\", \"mango\", \"banana\"]\n",
    "b = [\"orange\"]\n",
    "print(a+b)\n",
    "a.extend(b)\n",
    "print(a)"
   ]
  },
  {
   "cell_type": "code",
   "execution_count": null,
   "id": "5271d3ef-60c0-4d60-ab2e-8eae0e7e75fd",
   "metadata": {},
   "outputs": [],
   "source": []
  }
 ],
 "metadata": {
  "kernelspec": {
   "display_name": "Python 3 (ipykernel)",
   "language": "python",
   "name": "python3"
  },
  "language_info": {
   "codemirror_mode": {
    "name": "ipython",
    "version": 3
   },
   "file_extension": ".py",
   "mimetype": "text/x-python",
   "name": "python",
   "nbconvert_exporter": "python",
   "pygments_lexer": "ipython3",
   "version": "3.9.2"
  }
 },
 "nbformat": 4,
 "nbformat_minor": 5
}
