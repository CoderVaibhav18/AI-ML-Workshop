{
 "cells": [
  {
   "cell_type": "markdown",
   "id": "e18d87d1-e947-47a3-8cb3-664241d30d38",
   "metadata": {},
   "source": [
    "### Wap to find remainder of a number"
   ]
  },
  {
   "cell_type": "code",
   "execution_count": 3,
   "id": "7b5e1559-4546-4493-a680-db7796f575e3",
   "metadata": {},
   "outputs": [
    {
     "name": "stdout",
     "output_type": "stream",
     "text": [
      "1\n"
     ]
    }
   ],
   "source": [
    "num = 19889\n",
    "rem = num % 2\n",
    "print(rem)"
   ]
  },
  {
   "cell_type": "markdown",
   "id": "11f65946-0b12-452c-9a00-7da4b6df8b21",
   "metadata": {},
   "source": [
    "### Wap to find avg of 2 numbers"
   ]
  },
  {
   "cell_type": "code",
   "execution_count": 5,
   "id": "0980849e-597e-419b-aad3-26e8c6c9fdc2",
   "metadata": {},
   "outputs": [
    {
     "name": "stdout",
     "output_type": "stream",
     "text": [
      "18.0\n"
     ]
    }
   ],
   "source": [
    "num1 = 18\n",
    "num2 = 18\n",
    "avg = (num1 + num2) / 2\n",
    "print(avg)"
   ]
  },
  {
   "cell_type": "markdown",
   "id": "e372f3e3-7d31-4435-9693-691f12635109",
   "metadata": {},
   "source": [
    "### Wap to find avg of 3 numbers"
   ]
  },
  {
   "cell_type": "code",
   "execution_count": 6,
   "id": "82f0af42-fa54-4de1-8119-e39c5bcf32b0",
   "metadata": {},
   "outputs": [
    {
     "name": "stdout",
     "output_type": "stream",
     "text": [
      "18.0\n"
     ]
    }
   ],
   "source": [
    "num1 = 18\n",
    "num2 = 18\n",
    "num3 = 18\n",
    "avg = (num1 + num2 + num3) / 3\n",
    "print(avg)"
   ]
  },
  {
   "cell_type": "markdown",
   "id": "c933ad7a-1178-4e8b-8aa2-d714b80e4965",
   "metadata": {},
   "source": [
    "### Wap to find avg of 2 numbers entered by user\n"
   ]
  },
  {
   "cell_type": "code",
   "execution_count": 8,
   "id": "b1ceba4b-a019-4de9-88b5-5bf1b68467f8",
   "metadata": {},
   "outputs": [
    {
     "name": "stdin",
     "output_type": "stream",
     "text": [
      "Enter urr number1:  12\n",
      "Enter urr number2:  12\n"
     ]
    },
    {
     "name": "stdout",
     "output_type": "stream",
     "text": [
      "12\n"
     ]
    }
   ],
   "source": [
    "num1 = int(input(\"Enter urr number1: \"))\n",
    "num2 = int(input(\"Enter urr number2: \"))\n",
    "avg = (num1 + num2) / 2\n",
    "print(int(avg))"
   ]
  },
  {
   "cell_type": "code",
   "execution_count": null,
   "id": "8e9acbd7-510c-4022-88f6-1832b0cdcab0",
   "metadata": {},
   "outputs": [],
   "source": []
  }
 ],
 "metadata": {
  "kernelspec": {
   "display_name": "Python 3 (ipykernel)",
   "language": "python",
   "name": "python3"
  },
  "language_info": {
   "codemirror_mode": {
    "name": "ipython",
    "version": 3
   },
   "file_extension": ".py",
   "mimetype": "text/x-python",
   "name": "python",
   "nbconvert_exporter": "python",
   "pygments_lexer": "ipython3",
   "version": "3.9.2"
  }
 },
 "nbformat": 4,
 "nbformat_minor": 5
}
