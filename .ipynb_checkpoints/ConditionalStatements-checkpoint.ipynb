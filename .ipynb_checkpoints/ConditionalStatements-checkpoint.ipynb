{
 "cells": [
  {
   "cell_type": "markdown",
   "id": "65723652-a382-4519-ab4a-bf103200537b",
   "metadata": {},
   "source": [
    "### if-else"
   ]
  },
  {
   "cell_type": "markdown",
   "id": "81a28bc3-de8a-42ea-a6be-711c461ca3ff",
   "metadata": {},
   "source": [
    "### Greatest among two"
   ]
  },
  {
   "cell_type": "code",
   "execution_count": 3,
   "id": "8c2f626e-395c-4cf1-87b6-f40c722761d3",
   "metadata": {},
   "outputs": [
    {
     "name": "stdin",
     "output_type": "stream",
     "text": [
      "Enter first num:  45\n",
      "Enter second num:  5\n"
     ]
    },
    {
     "name": "stdout",
     "output_type": "stream",
     "text": [
      "Biggest number is: 45\n"
     ]
    }
   ],
   "source": [
    "n1 = int(input(\"Enter first num: \"))\n",
    "n2 = int(input(\"Enter second num: \"))\n",
    "if n1 > n2:\n",
    "    print(f\"Biggest number is: {n1}\")\n",
    "else:\n",
    "    print(f\"Biggest number is: {n2}\")"
   ]
  },
  {
   "cell_type": "markdown",
   "id": "0a885dc1-b965-4325-b6de-21c655fd55b2",
   "metadata": {},
   "source": [
    "### they can vote or not"
   ]
  },
  {
   "cell_type": "code",
   "execution_count": 4,
   "id": "f0147559-0577-48f8-acbc-b6f251807936",
   "metadata": {},
   "outputs": [
    {
     "name": "stdin",
     "output_type": "stream",
     "text": [
      "Enter your age:  45\n"
     ]
    },
    {
     "name": "stdout",
     "output_type": "stream",
     "text": [
      "They can vote\n"
     ]
    }
   ],
   "source": [
    "age = int(input(\"Enter your age: \"))\n",
    "if age >= 18:\n",
    "    print(\"They can vote\")\n",
    "else:\n",
    "    print(\"They cannot vote\")"
   ]
  },
  {
   "cell_type": "markdown",
   "id": "37f53620-1479-4a47-9049-57298288bcb1",
   "metadata": {},
   "source": [
    "### Leap year or not"
   ]
  },
  {
   "cell_type": "code",
   "execution_count": 5,
   "id": "7acb1815-3a03-42f1-819b-edc512180e1d",
   "metadata": {},
   "outputs": [
    {
     "name": "stdin",
     "output_type": "stream",
     "text": [
      "Enter your year:  2004\n"
     ]
    },
    {
     "name": "stdout",
     "output_type": "stream",
     "text": [
      "2004 is leap year\n"
     ]
    }
   ],
   "source": [
    "year = int(input(\"Enter your year: \"))\n",
    "if year % 4 == 0:\n",
    "    print(f\"{year} is leap year\")\n",
    "else:\n",
    "    print(f\"{year} is leap not year\")"
   ]
  },
  {
   "cell_type": "markdown",
   "id": "0325e7f8-007a-4972-9599-1d94df9d0be8",
   "metadata": {},
   "source": [
    "### Senior citizen or not"
   ]
  },
  {
   "cell_type": "code",
   "execution_count": 6,
   "id": "7f2d8724-ceca-4f66-b120-9cc590d6fca7",
   "metadata": {},
   "outputs": [
    {
     "name": "stdin",
     "output_type": "stream",
     "text": [
      "Enter your age:  56\n"
     ]
    },
    {
     "name": "stdout",
     "output_type": "stream",
     "text": [
      "They are not senior citizen\n"
     ]
    }
   ],
   "source": [
    "age = int(input(\"Enter your age: \"))S\n",
    "if age >= 60:\n",
    "    print(\"They are senior citizen\")\n",
    "else:\n",
    "    print(\"They are not senior citizen\")"
   ]
  },
  {
   "cell_type": "code",
   "execution_count": null,
   "id": "ad2ad014-192e-47db-a170-d1751f5e5ed5",
   "metadata": {},
   "outputs": [],
   "source": []
  }
 ],
 "metadata": {
  "kernelspec": {
   "display_name": "Python 3 (ipykernel)",
   "language": "python",
   "name": "python3"
  },
  "language_info": {
   "codemirror_mode": {
    "name": "ipython",
    "version": 3
   },
   "file_extension": ".py",
   "mimetype": "text/x-python",
   "name": "python",
   "nbconvert_exporter": "python",
   "pygments_lexer": "ipython3",
   "version": "3.9.2"
  }
 },
 "nbformat": 4,
 "nbformat_minor": 5
}
