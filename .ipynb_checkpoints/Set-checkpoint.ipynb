{
 "cells": [
  {
   "cell_type": "markdown",
   "id": "56691a6a-279a-471a-af91-37a47493fdc6",
   "metadata": {},
   "source": [
    "### Set"
   ]
  },
  {
   "cell_type": "code",
   "execution_count": 1,
   "id": "95709a1d-b7c8-44f3-aeb5-63caa242c2eb",
   "metadata": {},
   "outputs": [
    {
     "name": "stdout",
     "output_type": "stream",
     "text": [
      "{25, 66, 7}\n",
      "<class 'set'>\n"
     ]
    }
   ],
   "source": [
    "l = {25, 66, 7}\n",
    "print(l)\n",
    "print(type(l))\n"
   ]
  },
  {
   "cell_type": "markdown",
   "id": "6f09c7bb-3903-46dc-a4f0-1a4cc006b727",
   "metadata": {},
   "source": [
    "### Empty Dictionary"
   ]
  },
  {
   "cell_type": "code",
   "execution_count": 3,
   "id": "3af518ae-60c7-4a4c-9f03-0c24b0644289",
   "metadata": {},
   "outputs": [
    {
     "name": "stdout",
     "output_type": "stream",
     "text": [
      "{}\n",
      "<class 'dict'>\n"
     ]
    }
   ],
   "source": [
    "l = {}\n",
    "print(l)\n",
    "print(type(l))"
   ]
  },
  {
   "cell_type": "markdown",
   "id": "2f7fdd5c-7ece-4d3a-9f6d-da0156bf37f7",
   "metadata": {},
   "source": [
    "### Empty set"
   ]
  },
  {
   "cell_type": "code",
   "execution_count": 4,
   "id": "42367405-651e-4ecb-a13f-dccd9755533c",
   "metadata": {},
   "outputs": [
    {
     "name": "stdout",
     "output_type": "stream",
     "text": [
      "set()\n",
      "<class 'set'>\n"
     ]
    }
   ],
   "source": [
    "s = set()\n",
    "print(s)\n",
    "print(type(s))"
   ]
  },
  {
   "cell_type": "code",
   "execution_count": 5,
   "id": "c934292f-3a80-42f5-82ab-b05ac2d08a9a",
   "metadata": {},
   "outputs": [
    {
     "name": "stdout",
     "output_type": "stream",
     "text": [
      "{9, 10, 5, 6}\n"
     ]
    }
   ],
   "source": [
    "L = [6, 5, 5, 9, 10, 9]\n",
    "s = set(L)\n",
    "print(s)"
   ]
  },
  {
   "cell_type": "code",
   "execution_count": 7,
   "id": "1a9cacf4-5e42-4c59-bea6-b2a223a61187",
   "metadata": {},
   "outputs": [
    {
     "name": "stdout",
     "output_type": "stream",
     "text": [
      "{9, 5, 7}\n"
     ]
    }
   ],
   "source": [
    "s = set(range(5, 10, 2))\n",
    "print(s)"
   ]
  },
  {
   "cell_type": "code",
   "execution_count": 31,
   "id": "e2664987-ba84-444f-8231-0726906bd347",
   "metadata": {},
   "outputs": [
    {
     "name": "stdout",
     "output_type": "stream",
     "text": [
      "{4}\n",
      "{4, 6}\n",
      "{(15, 18), 4, 6}\n",
      "{(15, 18), 10, 4, 6}\n",
      "4\n",
      "(15, 18)\n",
      "{10, 4, 6}\n",
      "None\n",
      "{10, 6}\n"
     ]
    }
   ],
   "source": [
    "A = set()\n",
    "A.add(4)\n",
    "print(A)\n",
    "A.add(6)\n",
    "print(A)\n",
    "A.add((15, 18))\n",
    "print(A)\n",
    "A.add(10)\n",
    "print(A)\n",
    "print(len(A))\n",
    "print(A.pop())\n",
    "print(A)\n",
    "print(A.remove(4))\n",
    "print(A)"
   ]
  },
  {
   "cell_type": "code",
   "execution_count": null,
   "id": "c4c7dd9b-6e9b-4152-82ba-ebcbe577dd92",
   "metadata": {},
   "outputs": [],
   "source": []
  }
 ],
 "metadata": {
  "kernelspec": {
   "display_name": "Python 3 (ipykernel)",
   "language": "python",
   "name": "python3"
  },
  "language_info": {
   "codemirror_mode": {
    "name": "ipython",
    "version": 3
   },
   "file_extension": ".py",
   "mimetype": "text/x-python",
   "name": "python",
   "nbconvert_exporter": "python",
   "pygments_lexer": "ipython3",
   "version": "3.9.2"
  }
 },
 "nbformat": 4,
 "nbformat_minor": 5
}
