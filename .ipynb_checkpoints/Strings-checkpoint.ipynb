{
 "cells": [
  {
   "cell_type": "markdown",
   "id": "12159a0a-e538-475c-8485-b390089145aa",
   "metadata": {},
   "source": [
    "### Concatenation"
   ]
  },
  {
   "cell_type": "code",
   "execution_count": 7,
   "id": "3337c7c7-3276-4bec-9405-abc77af67562",
   "metadata": {},
   "outputs": [
    {
     "name": "stdout",
     "output_type": "stream",
     "text": [
      "BIT Vaibhav\n"
     ]
    }
   ],
   "source": [
    "A = \"BIT\"\n",
    "name = \"Vaibhav\"\n",
    "C = A + \" \" + name\n",
    "print(C)\n"
   ]
  },
  {
   "cell_type": "markdown",
   "id": "1e603122-2734-4795-98cd-fbc23ca676f6",
   "metadata": {},
   "source": [
    "### To Uppercase"
   ]
  },
  {
   "cell_type": "code",
   "execution_count": 8,
   "id": "d6b5c253-a028-4112-a7ad-7c92808bb183",
   "metadata": {},
   "outputs": [
    {
     "name": "stdout",
     "output_type": "stream",
     "text": [
      "VAIBHAV\n"
     ]
    }
   ],
   "source": [
    "name = \"Vaibhav\"\n",
    "print(name.upper())"
   ]
  },
  {
   "cell_type": "markdown",
   "id": "9fbc6f0d-d848-4e71-888b-1b8c41513fb5",
   "metadata": {},
   "source": [
    "### To get character placed at specific index"
   ]
  },
  {
   "cell_type": "code",
   "execution_count": 9,
   "id": "8df03ce5-202b-4ed0-821b-f589c182c70c",
   "metadata": {},
   "outputs": [
    {
     "name": "stdout",
     "output_type": "stream",
     "text": [
      "V\n"
     ]
    }
   ],
   "source": [
    "name = \"Vaibhav\"\n",
    "print(name[0])"
   ]
  },
  {
   "cell_type": "code",
   "execution_count": 10,
   "id": "d539d16d-cf36-4150-aa5c-e419ca3a3668",
   "metadata": {},
   "outputs": [
    {
     "name": "stdout",
     "output_type": "stream",
     "text": [
      "Vaibhav\n",
      "v\n"
     ]
    }
   ],
   "source": [
    "name = \"Vaibhav\"\n",
    "print(name[0:len(name)])\n",
    "print(name[-1])"
   ]
  },
  {
   "cell_type": "markdown",
   "id": "78d51203-813f-4ad9-9ac0-c20fd014e3f2",
   "metadata": {},
   "source": [
    "### Slice"
   ]
  },
  {
   "cell_type": "code",
   "execution_count": 11,
   "id": "0c358e6e-ff10-4302-ae01-f2aefac50053",
   "metadata": {},
   "outputs": [
    {
     "name": "stdout",
     "output_type": "stream",
     "text": [
      "Vaibhav Sathe\n",
      "VihvSte\n",
      "Vbvae\n",
      "e\n"
     ]
    }
   ],
   "source": [
    "name = \"Vaibhav Sathe\"\n",
    "print(name[0:len(name):1])\n",
    "print(name[0:len(name):2])\n",
    "print(name[0:len(name):3])\n",
    "print(name[-1])"
   ]
  },
  {
   "cell_type": "markdown",
   "id": "5ccd10a1-4f8a-45ba-bea4-30ae78fa752b",
   "metadata": {},
   "source": [
    "### To count character in string"
   ]
  },
  {
   "cell_type": "code",
   "execution_count": 12,
   "id": "62added0-a709-427d-9fd5-bd530ead6346",
   "metadata": {},
   "outputs": [
    {
     "name": "stdout",
     "output_type": "stream",
     "text": [
      "3\n"
     ]
    }
   ],
   "source": [
    "name = \"Vaibhav Sathe\"\n",
    "print(name.count(\"a\"))"
   ]
  },
  {
   "cell_type": "code",
   "execution_count": null,
   "id": "1c6ef313-7917-4247-b17f-0c52f16a0715",
   "metadata": {},
   "outputs": [],
   "source": []
  }
 ],
 "metadata": {
  "kernelspec": {
   "display_name": "Python 3 (ipykernel)",
   "language": "python",
   "name": "python3"
  },
  "language_info": {
   "codemirror_mode": {
    "name": "ipython",
    "version": 3
   },
   "file_extension": ".py",
   "mimetype": "text/x-python",
   "name": "python",
   "nbconvert_exporter": "python",
   "pygments_lexer": "ipython3",
   "version": "3.9.2"
  }
 },
 "nbformat": 4,
 "nbformat_minor": 5
}
