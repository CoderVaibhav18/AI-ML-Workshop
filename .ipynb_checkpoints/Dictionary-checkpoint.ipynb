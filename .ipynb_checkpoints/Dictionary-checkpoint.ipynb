{
 "cells": [
  {
   "cell_type": "markdown",
   "id": "2f5971da-99fb-462b-93b1-5e0ea8ed22f4",
   "metadata": {},
   "source": [
    "### Dictionary"
   ]
  },
  {
   "cell_type": "code",
   "execution_count": 1,
   "id": "235ece38-3073-43dd-8564-991a57fae46f",
   "metadata": {},
   "outputs": [
    {
     "name": "stdout",
     "output_type": "stream",
     "text": [
      "{'key': 'value'}\n"
     ]
    }
   ],
   "source": [
    "Dictionary = {\n",
    "    \"key\": \"value\"\n",
    "}\n",
    "print(Dictionary)"
   ]
  },
  {
   "cell_type": "code",
   "execution_count": 13,
   "id": "3655c170-a917-49a4-99a4-27aa5797eca8",
   "metadata": {},
   "outputs": [
    {
     "name": "stdout",
     "output_type": "stream",
     "text": [
      "{'name': 'Vaibhav', 'age': 21, 'list': [18, 45, 66], 5: 48}\n",
      "dict_keys(['name', 'age', 'list', 5])\n",
      "dict_values(['Vaibhav', 21, [18, 45, 66], 48])\n",
      "Vaibhav\n",
      "[18, 45, 66]\n",
      "{'name': 'Gaurav', 'age': 21, 'list': [18, 45, 66], 5: 48}\n"
     ]
    }
   ],
   "source": [
    "Dictionary = {\n",
    "    \"name\": \"Vaibhav\",\n",
    "    \"age\": 21,\n",
    "    \"list\": [18, 45, 66],\n",
    "    5: 48\n",
    "}\n",
    "print(Dictionary)\n",
    "print(Dictionary.keys())\n",
    "print(Dictionary.values())\n",
    "print(Dictionary[\"name\"])\n",
    "print(Dictionary[\"list\"])\n",
    "\n",
    "updateDict = {\n",
    "    \"name\": \"Gaurav\"\n",
    "} \n",
    "Dictionary.update(updateDict)\n",
    "print(Dictionary)"
   ]
  },
  {
   "cell_type": "code",
   "execution_count": null,
   "id": "60d31a55-35a5-4732-b9db-5189e9eb7474",
   "metadata": {},
   "outputs": [],
   "source": []
  }
 ],
 "metadata": {
  "kernelspec": {
   "display_name": "Python 3 (ipykernel)",
   "language": "python",
   "name": "python3"
  },
  "language_info": {
   "codemirror_mode": {
    "name": "ipython",
    "version": 3
   },
   "file_extension": ".py",
   "mimetype": "text/x-python",
   "name": "python",
   "nbconvert_exporter": "python",
   "pygments_lexer": "ipython3",
   "version": "3.9.2"
  }
 },
 "nbformat": 4,
 "nbformat_minor": 5
}
